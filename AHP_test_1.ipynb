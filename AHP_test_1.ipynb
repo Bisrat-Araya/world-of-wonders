{
 "cells": [
  {
   "cell_type": "code",
   "execution_count": 4,
   "metadata": {},
   "outputs": [],
   "source": [
    "# some handy functions to use along widgets\n",
    "from IPython.display import display, Markdown, clear_output\n",
    "# widget packages\n",
    "import ipywidgets as widgets\n",
    "import numpy as np\n",
    "from numpy.linalg import eig\n",
    "import warnings"
   ]
  },
  {
   "cell_type": "code",
   "execution_count": 5,
   "metadata": {},
   "outputs": [
    {
     "name": "stdout",
     "output_type": "stream",
     "text": [
      "[['a', 'b'], ['a', 'c'], ['b', 'c']]\n"
     ]
    },
    {
     "data": {
      "application/vnd.jupyter.widget-view+json": {
       "model_id": "3ba3fe6354a3450fb33e9e33fdeb75ee",
       "version_major": 2,
       "version_minor": 0
      },
      "text/plain": [
       "VBox(children=(RadioButtons(description='Pizza topping:', options=('a', 'b'), value='a'), Dropdown(description…"
      ]
     },
     "metadata": {},
     "output_type": "display_data"
    },
    {
     "data": {
      "application/vnd.jupyter.widget-view+json": {
       "model_id": "7f3ec8ac75be456fbd12ec3af2b5b83a",
       "version_major": 2,
       "version_minor": 0
      },
      "text/plain": [
       "VBox(children=(RadioButtons(description='Pizza topping:', options=('a', 'c'), value='a'), Dropdown(description…"
      ]
     },
     "metadata": {},
     "output_type": "display_data"
    },
    {
     "data": {
      "application/vnd.jupyter.widget-view+json": {
       "model_id": "2c02d44a977946f5ada1e10cd0bc6322",
       "version_major": 2,
       "version_minor": 0
      },
      "text/plain": [
       "VBox(children=(RadioButtons(description='Pizza topping:', options=('b', 'c'), value='b'), Dropdown(description…"
      ]
     },
     "metadata": {},
     "output_type": "display_data"
    },
    {
     "name": "stdout",
     "output_type": "stream",
     "text": [
      "a\n"
     ]
    }
   ],
   "source": [
    "crtr_lst = ['a','b','c']     #list of criteria\n",
    "crtr_num = len(crtr_lst)             #number of criteria\n",
    "\n",
    "#initiating comparison list variable\n",
    "comps = []\n",
    "\n",
    "#determining comparison combinations by looping through\n",
    "#the list of criteria and appending to comparisons\n",
    "p = 0\n",
    "while p < crtr_num:\n",
    "    for q in range(p+1,crtr_num):\n",
    "        comps.append([crtr_lst[p],crtr_lst[q]])\n",
    "        q += 1\n",
    "    p += 1\n",
    "#check\n",
    "print(comps)\n",
    "comps_num = len(comps)\n",
    "\n",
    "#List of options\n",
    "Opts = ['1 - Equal Importance',\n",
    "             '2 - Weak or slight',\n",
    "             '3 - Moderate importance',\n",
    "             '4 - Moderate plus',\n",
    "             '5 - Strong importance',\n",
    "             '6 - Strong plus',\n",
    "             '7 - Very strong or demonstrated importance',\n",
    "             '8 - Very, very strong',\n",
    "             '9 - Extreme importance']\n",
    "\n",
    "\n",
    "#for i in range(comps_num):\n",
    "choice = [widgets.RadioButtons(options=[comps[i][0],comps[i][-1]],\n",
    "                           description='Pizza topping:', disabled=False) for i in range(comps_num)]\n",
    "rate = [widgets.Dropdown(options = Opts, value = Opts[0],\n",
    "                       description = comps[1][0], disabled = False) for i in range(comps_num)]\n",
    "for i in range(comps_num):\n",
    "    items = widgets.VBox(children=[choice[i], rate[i]])\n",
    "    display(items)\n",
    "print(choice[0].value)"
   ]
  },
  {
   "cell_type": "code",
   "execution_count": 20,
   "metadata": {},
   "outputs": [],
   "source": [
    "#Defining the function to construct the comparison matrix\n",
    "def construct_matrix():\n",
    "    #Zero matrix with size equal to number of criteria in both dimensions\n",
    "    empt_mat = np.zeros((crtr_num,crtr_num),float)\n",
    "    s = crtr_num\n",
    "    cnt = 0\n",
    "    for j in range(0,s):\n",
    "        empt_mat[j,j] = 1.0\n",
    "        for k in range(j+1,s):\n",
    "            if comps[cnt].index(choice[cnt].value) == 0:\n",
    "                pw_comp = Opts.index(rate[cnt].value) + 1.0\n",
    "            else:\n",
    "                pw_comp = 1/(Opts.index(rate[cnt].value) + 1.0)\n",
    "            empt_mat[j,k] = pw_comp\n",
    "            empt_mat[k,j] = 1 / pw_comp\n",
    "            cnt += 1\n",
    "    return empt_mat"
   ]
  },
  {
   "cell_type": "code",
   "execution_count": 30,
   "metadata": {},
   "outputs": [],
   "source": [
    "#Defining function to calculate weights and consistency\n",
    "def calculate():\n",
    "    comp_mat = construct_matrix()\n",
    "    s = crtr_num\n",
    "    #Saaty's random consistency index\n",
    "    ri = [0, 0, 0.58, 0.9, 1.12, 1.24, 1.32, 1.41, 1.45, 1.49]\n",
    "    e_val, e_vec = eig(comp_mat)\n",
    "    i=0\n",
    "    global p_vec,w,lmax,ci,cr\n",
    "    p_vec = np.empty((s,1),float)\n",
    "    while i < s:\n",
    "        p_vec[i,0] = max(e_vec[i])\n",
    "        i = i + 1\n",
    "    w = p_vec/sum(p_vec)\n",
    "    lmax = max(e_val)\n",
    "    ci = (lmax - s) / (s - 1)\n",
    "    cr = ci / ri[s]\n",
    "    return comp_mat\n",
    "\n",
    "def on_button_clicked(b):\n",
    "    output.clear_output()\n",
    "    calculate()\n",
    "    #print(calculate())\n",
    "    with output:\n",
    "        #print(\"comp_mat=\",comp_mat)\n",
    "        print(\"p_vec=\", p_vec)\n",
    "        print(\"w=\",w)\n",
    "        print(\"lmax=\",lmax)\n",
    "        print(\"ci=\",ci)\n",
    "        print(\"cr=\",cr)"
   ]
  },
  {
   "cell_type": "code",
   "execution_count": null,
   "metadata": {},
   "outputs": [],
   "source": []
  },
  {
   "cell_type": "code",
   "execution_count": 31,
   "metadata": {},
   "outputs": [
    {
     "data": {
      "application/vnd.jupyter.widget-view+json": {
       "model_id": "473d5b1bd4044bbc872684cadc00bf2c",
       "version_major": 2,
       "version_minor": 0
      },
      "text/plain": [
       "Button(description='My Button', style=ButtonStyle())"
      ]
     },
     "metadata": {},
     "output_type": "display_data"
    },
    {
     "data": {
      "application/vnd.jupyter.widget-view+json": {
       "model_id": "d542b686664b40c9b53b3834b4c18065",
       "version_major": 2,
       "version_minor": 0
      },
      "text/plain": [
       "Output()"
      ]
     },
     "metadata": {},
     "output_type": "display_data"
    },
    {
     "name": "stdout",
     "output_type": "stream",
     "text": [
      "(3.0648875798728206+0j)\n"
     ]
    }
   ],
   "source": [
    "button = widgets.Button(description ='My Button')\n",
    "output = widgets.Output()\n",
    "display(button,output)\n",
    "button.on_click(on_button_clicked)\n",
    "warnings.filterwarnings(\"ignore\")\n",
    "print(lmax)"
   ]
  }
 ],
 "metadata": {
  "kernelspec": {
   "display_name": "Python 3",
   "language": "python",
   "name": "python3"
  },
  "language_info": {
   "codemirror_mode": {
    "name": "ipython",
    "version": 3
   },
   "file_extension": ".py",
   "mimetype": "text/x-python",
   "name": "python",
   "nbconvert_exporter": "python",
   "pygments_lexer": "ipython3",
   "version": "3.7.4"
  }
 },
 "nbformat": 4,
 "nbformat_minor": 4
}
