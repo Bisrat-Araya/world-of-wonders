{
 "cells": [
  {
   "cell_type": "code",
   "execution_count": 165,
   "metadata": {},
   "outputs": [],
   "source": [
    "# some handy functions to use along widgets\n",
    "from IPython.display import display, Markdown, clear_output\n",
    "# widget packages\n",
    "import ipywidgets as widgets\n",
    "import numpy as np\n",
    "from numpy.linalg import eig\n",
    "import warnings"
   ]
  },
  {
   "cell_type": "code",
   "execution_count": 166,
   "metadata": {},
   "outputs": [
    {
     "name": "stdout",
     "output_type": "stream",
     "text": [
      "[['a', 'b'], ['a', 'c'], ['b', 'c']]\n"
     ]
    }
   ],
   "source": [
    "crtr_lst = ['a','b','c']     #list of criteria\n",
    "crtr_num = len(crtr_lst)             #number of criteria\n",
    "\n",
    "#initiating comparison list variable\n",
    "comps = []\n",
    "\n",
    "#determining comparison combinations by looping through\n",
    "#the list of criteria and appending to comparisons\n",
    "p = 0\n",
    "while p < crtr_num:\n",
    "    for q in range(p+1,crtr_num):\n",
    "        comps.append([crtr_lst[p],crtr_lst[q]])\n",
    "        q += 1\n",
    "    p += 1\n",
    "#check\n",
    "print(comps)\n",
    "comps_num = len(comps)\n",
    "\n",
    "#List of options\n",
    "Opts = ['1 - Equal Importance',\n",
    "             '2 - Weak or slight',\n",
    "             '3 - Moderate importance',\n",
    "             '4 - Moderate plus',\n",
    "             '5 - Strong importance',\n",
    "             '6 - Strong plus',\n",
    "             '7 - Very strong or demonstrated importance',\n",
    "             '8 - Very, very strong',\n",
    "             '9 - Extreme importance']"
   ]
  },
  {
   "cell_type": "code",
   "execution_count": 167,
   "metadata": {},
   "outputs": [],
   "source": [
    "#for i in range(comps_num):\n",
    "def dum():\n",
    "    choice = [widgets.RadioButtons(options=[comps[i][0], comps[i][-1]],\n",
    "                                   description='Pizza topping:', disabled=False) for i in range(comps_num)]\n",
    "    rate = [widgets.Dropdown(options=Opts, value=Opts[0],\n",
    "                             description=comps[1][0], disabled=False) for i in range(comps_num)]\n",
    "    for i in range(comps_num):\n",
    "        items = widgets.VBox(children=[choice[i], rate[i]])\n",
    "        display(items)\n",
    "    print(choice[0].value)\n",
    "    return choice, rate"
   ]
  },
  {
   "cell_type": "code",
   "execution_count": 168,
   "metadata": {},
   "outputs": [],
   "source": [
    "#Defining the function to construct the comparison matrix\n",
    "def construct_matrix():\n",
    "    #Zero matrix with size equal to number of criteria in both dimensions\n",
    "    empt_mat = np.zeros((crtr_num,crtr_num),float)\n",
    "    s = crtr_num\n",
    "    cnt = 0\n",
    "    for j in range(0,s):\n",
    "        empt_mat[j,j] = 1.0\n",
    "        for k in range(j+1,s):\n",
    "            if comps[cnt].index(choice[cnt].value) == 0:\n",
    "                pw_comp = Opts.index(rate[cnt].value) + 1.0\n",
    "            else:\n",
    "                pw_comp = 1/(Opts.index(rate[cnt].value) + 1.0)\n",
    "            empt_mat[j,k] = pw_comp\n",
    "            empt_mat[k,j] = 1 / pw_comp\n",
    "            cnt += 1\n",
    "    return empt_mat"
   ]
  },
  {
   "cell_type": "code",
   "execution_count": 176,
   "metadata": {},
   "outputs": [],
   "source": [
    "#Defining function to calculate weights and consistency\n",
    "def calculate():\n",
    "    comp_mat = construct_matrix()\n",
    "    s = crtr_num\n",
    "    #Saaty's random consistency index\n",
    "    ri = [0, 0, 0.58, 0.9, 1.12, 1.24, 1.32, 1.41, 1.45, 1.49]\n",
    "    e_val, e_vec = eig(comp_mat)\n",
    "    i=0\n",
    "    global p_vec,w,lmax,ci,cr\n",
    "    p_vec = np.empty((s,1),float)\n",
    "    while i < s:\n",
    "        p_vec[i,0] = max(e_vec[i])\n",
    "        i = i + 1\n",
    "    w = p_vec/sum(p_vec)\n",
    "    lmax = max(e_val)\n",
    "    ci = (lmax - s) / (s - 1)\n",
    "    cr = ci / ri[s]\n",
    "    return w, cr\n",
    "\n",
    "def on_button_clicked(b):\n",
    "    w, cr = calculate()\n",
    "    #print(w,cr)\n",
    "    if cr < 0.1:\n",
    "        with out:\n",
    "            out.clear_output()\n",
    "            print(w)\n",
    "    else:\n",
    "        with out:\n",
    "            out.clear_output()\n",
    "            print(w)\n",
    "            print(\"please check!\")\n",
    "        #print(\"comp_mat=\",comp_mat)\n",
    "        #print(calculate())\n",
    "        #print(\"p_vec=\", p_vec)\n",
    "        #print(\"w=\",w)\n",
    "        #print(\"lmax=\",lmax)\n",
    "        #print(\"ci=\",ci)\n",
    "        #print(\"cr=\",cr)\n"
   ]
  },
  {
   "cell_type": "code",
   "execution_count": null,
   "metadata": {},
   "outputs": [],
   "source": []
  },
  {
   "cell_type": "code",
   "execution_count": 181,
   "metadata": {},
   "outputs": [
    {
     "data": {
      "application/vnd.jupyter.widget-view+json": {
       "model_id": "c90348645ebc43e794dbc851668a7982",
       "version_major": 2,
       "version_minor": 0
      },
      "text/plain": [
       "VBox(children=(RadioButtons(description='Pizza topping:', options=('a', 'b'), value='a'), Dropdown(description…"
      ]
     },
     "metadata": {},
     "output_type": "display_data"
    },
    {
     "data": {
      "application/vnd.jupyter.widget-view+json": {
       "model_id": "4fef2ee2ce6549918aa2ba471b4db62a",
       "version_major": 2,
       "version_minor": 0
      },
      "text/plain": [
       "VBox(children=(RadioButtons(description='Pizza topping:', options=('a', 'c'), value='a'), Dropdown(description…"
      ]
     },
     "metadata": {},
     "output_type": "display_data"
    },
    {
     "data": {
      "application/vnd.jupyter.widget-view+json": {
       "model_id": "83891216cf334648b3d37b78b9396ba0",
       "version_major": 2,
       "version_minor": 0
      },
      "text/plain": [
       "VBox(children=(RadioButtons(description='Pizza topping:', options=('b', 'c'), value='b'), Dropdown(description…"
      ]
     },
     "metadata": {},
     "output_type": "display_data"
    },
    {
     "name": "stdout",
     "output_type": "stream",
     "text": [
      "a\n"
     ]
    },
    {
     "data": {
      "application/vnd.jupyter.widget-view+json": {
       "model_id": "e0dfd18c7e0a44c98c77e3f150337749",
       "version_major": 2,
       "version_minor": 0
      },
      "text/plain": [
       "Button(button_style='warning', description='My Button', style=ButtonStyle())"
      ]
     },
     "metadata": {},
     "output_type": "display_data"
    },
    {
     "data": {
      "application/vnd.jupyter.widget-view+json": {
       "model_id": "fb7f8176e15d4ec2aaad60a531d4d4f7",
       "version_major": 2,
       "version_minor": 0
      },
      "text/plain": [
       "Output(layout=Layout(border='1px solid black'))"
      ]
     },
     "metadata": {},
     "output_type": "display_data"
    }
   ],
   "source": [
    "#nbi:hide_in\n",
    "button = widgets.Button(description ='My Button', disabled = False, button_style = 'warning')\n",
    "out = widgets.Output(layout={'border': '1px solid black'})\n",
    "\n",
    "choice, rate = dum()\n",
    "display(button, out)\n",
    "\n",
    "button.on_click(on_button_clicked)\n",
    "\n",
    "warnings.filterwarnings(\"ignore\")"
   ]
  },
  {
   "cell_type": "code",
   "execution_count": 182,
   "metadata": {},
   "outputs": [
    {
     "data": {
      "application/vnd.jupyter.widget-view+json": {
       "model_id": "7ea969b6caeb42f480148adec2ec3048",
       "version_major": 2,
       "version_minor": 0
      },
      "text/plain": [
       "Button(description='Click Me!', style=ButtonStyle())"
      ]
     },
     "metadata": {},
     "output_type": "display_data"
    },
    {
     "data": {
      "application/vnd.jupyter.widget-view+json": {
       "model_id": "bd6af9eac8e64cd8b2e8dc32c485b5c2",
       "version_major": 2,
       "version_minor": 0
      },
      "text/plain": [
       "Output(layout=Layout(border='1px solid black'))"
      ]
     },
     "metadata": {},
     "output_type": "display_data"
    }
   ],
   "source": [
    "from IPython.display import display\n",
    "button = widgets.Button(description=\"Click Me!\")\n",
    "output = widgets.Output(layout={'border': '1px solid black'})\n",
    "\n",
    "display(button, output)\n",
    "\n",
    "def on_clicked(b):\n",
    "    output.clear_output()\n",
    "    with output:\n",
    "        print(\"Button clicked.\")\n",
    "\n",
    "button.on_click(on_clicked)\n"
   ]
  }
 ],
 "metadata": {
  "kernelspec": {
   "display_name": "Python 3",
   "language": "python",
   "name": "python3"
  },
  "language_info": {
   "codemirror_mode": {
    "name": "ipython",
    "version": 3
   },
   "file_extension": ".py",
   "mimetype": "text/x-python",
   "name": "python",
   "nbconvert_exporter": "python",
   "pygments_lexer": "ipython3",
   "version": "3.7.4"
  },
  "widgets": {
   "application/vnd.jupyter.widget-state+json": {
    "state": {
     "06050b03af4d49f1a8523c8a8b8c2ad5": {
      "model_module": "@jupyter-widgets/base",
      "model_module_version": "1.2.0",
      "model_name": "LayoutModel",
      "state": {}
     },
     "09c793d1d0d14715be7c36ec2d5e166b": {
      "model_module": "@jupyter-widgets/controls",
      "model_module_version": "1.5.0",
      "model_name": "ButtonModel",
      "state": {
       "description": "My Button",
       "layout": "IPY_MODEL_6ce57beb9a004cd6bab5cc956155541c",
       "style": "IPY_MODEL_94b2b04524654ae7873a72d358866eb7"
      }
     },
     "169fe1af2173403d807abe8885617324": {
      "model_module": "@jupyter-widgets/base",
      "model_module_version": "1.2.0",
      "model_name": "LayoutModel",
      "state": {}
     },
     "1892ef3474b04785abc28e20244e1943": {
      "model_module": "@jupyter-widgets/controls",
      "model_module_version": "1.5.0",
      "model_name": "DescriptionStyleModel",
      "state": {
       "description_width": ""
      }
     },
     "1e9e0a6439884641bffde024b88dfc12": {
      "model_module": "@jupyter-widgets/base",
      "model_module_version": "1.2.0",
      "model_name": "LayoutModel",
      "state": {}
     },
     "1f0ef42bf61548a8b7c0d71774693bf3": {
      "model_module": "@jupyter-widgets/base",
      "model_module_version": "1.2.0",
      "model_name": "LayoutModel",
      "state": {}
     },
     "220e869cf9f9472ea0af7ac3b4250ae9": {
      "model_module": "@jupyter-widgets/controls",
      "model_module_version": "1.5.0",
      "model_name": "DropdownModel",
      "state": {
       "_options_labels": [
        "1 - Equal Importance",
        "2 - Weak or slight",
        "3 - Moderate importance",
        "4 - Moderate plus",
        "5 - Strong importance",
        "6 - Strong plus",
        "7 - Very strong or demonstrated importance",
        "8 - Very, very strong",
        "9 - Extreme importance"
       ],
       "description": "a",
       "index": 0,
       "layout": "IPY_MODEL_c19948d95bb44a29a37c2e4ef9c5fc7b",
       "style": "IPY_MODEL_685b5d0479e34e469792d2801a28d642"
      }
     },
     "248362fbff284b8c9b5b8c8c58b11ac7": {
      "model_module": "@jupyter-widgets/controls",
      "model_module_version": "1.5.0",
      "model_name": "RadioButtonsModel",
      "state": {
       "_options_labels": [
        "b",
        "c"
       ],
       "description": "Pizza topping:",
       "index": 0,
       "layout": "IPY_MODEL_f2f6c1bf1e184459be5f92001d65d705",
       "style": "IPY_MODEL_1892ef3474b04785abc28e20244e1943"
      }
     },
     "2792cea5337e4261ad401fd98a38b290": {
      "model_module": "@jupyter-widgets/controls",
      "model_module_version": "1.5.0",
      "model_name": "DescriptionStyleModel",
      "state": {
       "description_width": ""
      }
     },
     "28362e4ef7f14834a728aa4f4b8d0e27": {
      "model_module": "@jupyter-widgets/output",
      "model_module_version": "1.0.0",
      "model_name": "OutputModel",
      "state": {
       "layout": "IPY_MODEL_bac54438efdd46298e6b50d9c5babfee"
      }
     },
     "2de5be4305c043b1979b483cafa04ece": {
      "model_module": "@jupyter-widgets/controls",
      "model_module_version": "1.5.0",
      "model_name": "DropdownModel",
      "state": {
       "_options_labels": [
        "1 - Equal Importance",
        "2 - Weak or slight",
        "3 - Moderate importance",
        "4 - Moderate plus",
        "5 - Strong importance",
        "6 - Strong plus",
        "7 - Very strong or demonstrated importance",
        "8 - Very, very strong",
        "9 - Extreme importance"
       ],
       "description": "a",
       "index": 0,
       "layout": "IPY_MODEL_cef955f503324b6daddd5e695d960692",
       "style": "IPY_MODEL_324ec80330f14366870dd146316b1dd0"
      }
     },
     "324ec80330f14366870dd146316b1dd0": {
      "model_module": "@jupyter-widgets/controls",
      "model_module_version": "1.5.0",
      "model_name": "DescriptionStyleModel",
      "state": {
       "description_width": ""
      }
     },
     "3360ca254000414b878365f9162d3dd6": {
      "model_module": "@jupyter-widgets/base",
      "model_module_version": "1.2.0",
      "model_name": "LayoutModel",
      "state": {}
     },
     "33df9418746d4e6b810dd0d283e665d3": {
      "model_module": "@jupyter-widgets/base",
      "model_module_version": "1.2.0",
      "model_name": "LayoutModel",
      "state": {}
     },
     "346ef654218d44c4bd8e5ccb7c78406f": {
      "model_module": "@jupyter-widgets/base",
      "model_module_version": "1.2.0",
      "model_name": "LayoutModel",
      "state": {}
     },
     "3803cf19a86148f1862cb34b05e55564": {
      "model_module": "@jupyter-widgets/controls",
      "model_module_version": "1.5.0",
      "model_name": "ButtonModel",
      "state": {
       "description": "My Button",
       "layout": "IPY_MODEL_737ceeb2418042e7b645da86609f511e",
       "style": "IPY_MODEL_f601c7282c0743b4805a6558b256e19d"
      }
     },
     "38a65f6808f7419bb29673b0ee0814e4": {
      "model_module": "@jupyter-widgets/output",
      "model_module_version": "1.0.0",
      "model_name": "OutputModel",
      "state": {
       "layout": "IPY_MODEL_f2169dd763e9429b86fbac5d781a3b6f"
      }
     },
     "38e30081542a41a7b08047e20829f8a8": {
      "model_module": "@jupyter-widgets/output",
      "model_module_version": "1.0.0",
      "model_name": "OutputModel",
      "state": {
       "layout": "IPY_MODEL_f31166c226344c87b4daf20602fa4cd3",
       "outputs": [
        {
         "name": "stdout",
         "output_type": "stream",
         "text": "p_vec= [[0.57735027]\n [0.57735027]\n [0.70710678]]\nw= [[0.31010205]\n [0.31010205]\n [0.3797959 ]]\nlmax= 3.0\nci= 0.0\ncr= 0.0\n"
        }
       ]
      }
     },
     "3d887a1bbe0442aa88ac305c57dda676": {
      "model_module": "@jupyter-widgets/controls",
      "model_module_version": "1.5.0",
      "model_name": "DropdownModel",
      "state": {
       "_options_labels": [
        "1 - Equal Importance",
        "2 - Weak or slight",
        "3 - Moderate importance",
        "4 - Moderate plus",
        "5 - Strong importance",
        "6 - Strong plus",
        "7 - Very strong or demonstrated importance",
        "8 - Very, very strong",
        "9 - Extreme importance"
       ],
       "description": "a",
       "index": 0,
       "layout": "IPY_MODEL_73f1fd9b960e4e58b695869e35f1d7b3",
       "style": "IPY_MODEL_761c517a457a4d48866202fba6ce0f96"
      }
     },
     "3dd54bdbe6674f7f95afea0290d39d1f": {
      "model_module": "@jupyter-widgets/controls",
      "model_module_version": "1.5.0",
      "model_name": "VBoxModel",
      "state": {
       "children": [
        "IPY_MODEL_a388862f47cc49c3acda3c90a2a2ed64",
        "IPY_MODEL_8143048ca4494c9d94ba2dd0c3ba5582"
       ],
       "layout": "IPY_MODEL_882e4c070e984bdfb1a5861b79e03a0d"
      }
     },
     "3fb5b65fd4114efcbe15ac95a7837524": {
      "model_module": "@jupyter-widgets/controls",
      "model_module_version": "1.5.0",
      "model_name": "ButtonStyleModel",
      "state": {}
     },
     "43671b0365e2448a9b88c35f74542954": {
      "model_module": "@jupyter-widgets/controls",
      "model_module_version": "1.5.0",
      "model_name": "DescriptionStyleModel",
      "state": {
       "description_width": ""
      }
     },
     "4a0c230807c14ba2b53102fac1622ee4": {
      "model_module": "@jupyter-widgets/base",
      "model_module_version": "1.2.0",
      "model_name": "LayoutModel",
      "state": {}
     },
     "4c108555829d495aab132e14ccd22463": {
      "model_module": "@jupyter-widgets/base",
      "model_module_version": "1.2.0",
      "model_name": "LayoutModel",
      "state": {}
     },
     "4d62b9b9c66d471eb2a2820a3c0464f7": {
      "model_module": "@jupyter-widgets/controls",
      "model_module_version": "1.5.0",
      "model_name": "RadioButtonsModel",
      "state": {
       "_options_labels": [
        "a",
        "c"
       ],
       "description": "Pizza topping:",
       "index": 0,
       "layout": "IPY_MODEL_8e9f2cb638904779bf81bfb0701b6169",
       "style": "IPY_MODEL_daa1484341d2486f8939a5e95534f40d"
      }
     },
     "685b5d0479e34e469792d2801a28d642": {
      "model_module": "@jupyter-widgets/controls",
      "model_module_version": "1.5.0",
      "model_name": "DescriptionStyleModel",
      "state": {
       "description_width": ""
      }
     },
     "6ce57beb9a004cd6bab5cc956155541c": {
      "model_module": "@jupyter-widgets/base",
      "model_module_version": "1.2.0",
      "model_name": "LayoutModel",
      "state": {}
     },
     "737ceeb2418042e7b645da86609f511e": {
      "model_module": "@jupyter-widgets/base",
      "model_module_version": "1.2.0",
      "model_name": "LayoutModel",
      "state": {}
     },
     "737eb12b15214f9d880a39e4066e043e": {
      "model_module": "@jupyter-widgets/controls",
      "model_module_version": "1.5.0",
      "model_name": "VBoxModel",
      "state": {
       "children": [
        "IPY_MODEL_248362fbff284b8c9b5b8c8c58b11ac7",
        "IPY_MODEL_ca99eae10b12428b85c4c9d066325552"
       ],
       "layout": "IPY_MODEL_169fe1af2173403d807abe8885617324"
      }
     },
     "73f1fd9b960e4e58b695869e35f1d7b3": {
      "model_module": "@jupyter-widgets/base",
      "model_module_version": "1.2.0",
      "model_name": "LayoutModel",
      "state": {}
     },
     "761c517a457a4d48866202fba6ce0f96": {
      "model_module": "@jupyter-widgets/controls",
      "model_module_version": "1.5.0",
      "model_name": "DescriptionStyleModel",
      "state": {
       "description_width": ""
      }
     },
     "8143048ca4494c9d94ba2dd0c3ba5582": {
      "model_module": "@jupyter-widgets/controls",
      "model_module_version": "1.5.0",
      "model_name": "DropdownModel",
      "state": {
       "_options_labels": [
        "1 - Equal Importance",
        "2 - Weak or slight",
        "3 - Moderate importance",
        "4 - Moderate plus",
        "5 - Strong importance",
        "6 - Strong plus",
        "7 - Very strong or demonstrated importance",
        "8 - Very, very strong",
        "9 - Extreme importance"
       ],
       "description": "a",
       "index": 0,
       "layout": "IPY_MODEL_b577ed0351e54d97a2dcf3e174959dde",
       "style": "IPY_MODEL_2792cea5337e4261ad401fd98a38b290"
      }
     },
     "83c7ed0484714945b91574b0c75b19df": {
      "model_module": "@jupyter-widgets/controls",
      "model_module_version": "1.5.0",
      "model_name": "VBoxModel",
      "state": {
       "children": [
        "IPY_MODEL_cd1694ef57ea4ccfb8b6d14f08df4c51",
        "IPY_MODEL_220e869cf9f9472ea0af7ac3b4250ae9"
       ],
       "layout": "IPY_MODEL_4a0c230807c14ba2b53102fac1622ee4"
      }
     },
     "8581dd24f5974c84950c6c73ac15e4a6": {
      "model_module": "@jupyter-widgets/output",
      "model_module_version": "1.0.0",
      "model_name": "OutputModel",
      "state": {
       "layout": "IPY_MODEL_33df9418746d4e6b810dd0d283e665d3"
      }
     },
     "86e05ac0cb8145dc919679c2a1c87aa3": {
      "model_module": "@jupyter-widgets/controls",
      "model_module_version": "1.5.0",
      "model_name": "DescriptionStyleModel",
      "state": {
       "description_width": ""
      }
     },
     "877367a9ec4946c4a9bfbc21449d8062": {
      "model_module": "@jupyter-widgets/controls",
      "model_module_version": "1.5.0",
      "model_name": "VBoxModel",
      "state": {
       "children": [
        "IPY_MODEL_b3632ed30dec4b1d98c7d23fa99b1223",
        "IPY_MODEL_2de5be4305c043b1979b483cafa04ece"
       ],
       "layout": "IPY_MODEL_4c108555829d495aab132e14ccd22463"
      }
     },
     "882e4c070e984bdfb1a5861b79e03a0d": {
      "model_module": "@jupyter-widgets/base",
      "model_module_version": "1.2.0",
      "model_name": "LayoutModel",
      "state": {}
     },
     "8e9f2cb638904779bf81bfb0701b6169": {
      "model_module": "@jupyter-widgets/base",
      "model_module_version": "1.2.0",
      "model_name": "LayoutModel",
      "state": {}
     },
     "8f8aaff92d6c45e69a0016d8b20bc803": {
      "model_module": "@jupyter-widgets/controls",
      "model_module_version": "1.5.0",
      "model_name": "VBoxModel",
      "state": {
       "children": [
        "IPY_MODEL_4d62b9b9c66d471eb2a2820a3c0464f7",
        "IPY_MODEL_de31364fe79848a9875242b5bb04f69a"
       ],
       "layout": "IPY_MODEL_1e9e0a6439884641bffde024b88dfc12"
      }
     },
     "937f312d82854a58bd101e6b8ffeb9ee": {
      "model_module": "@jupyter-widgets/base",
      "model_module_version": "1.2.0",
      "model_name": "LayoutModel",
      "state": {}
     },
     "94b2b04524654ae7873a72d358866eb7": {
      "model_module": "@jupyter-widgets/controls",
      "model_module_version": "1.5.0",
      "model_name": "ButtonStyleModel",
      "state": {}
     },
     "a388862f47cc49c3acda3c90a2a2ed64": {
      "model_module": "@jupyter-widgets/controls",
      "model_module_version": "1.5.0",
      "model_name": "RadioButtonsModel",
      "state": {
       "_options_labels": [
        "a",
        "c"
       ],
       "description": "Pizza topping:",
       "index": 0,
       "layout": "IPY_MODEL_e1ce486894a742788657ff18a8d581e3",
       "style": "IPY_MODEL_ffcac2f5fedb4a6b87f5016f796a0c58"
      }
     },
     "a5999b514d7a4ce783779d9c5fdc569e": {
      "model_module": "@jupyter-widgets/controls",
      "model_module_version": "1.5.0",
      "model_name": "ButtonModel",
      "state": {
       "description": "My Button",
       "layout": "IPY_MODEL_d45728f861db429b81d75b781eef520d",
       "style": "IPY_MODEL_e3e0740d1b3f4faba60791f88fd3cd1f"
      }
     },
     "b3632ed30dec4b1d98c7d23fa99b1223": {
      "model_module": "@jupyter-widgets/controls",
      "model_module_version": "1.5.0",
      "model_name": "RadioButtonsModel",
      "state": {
       "_options_labels": [
        "a",
        "b"
       ],
       "description": "Pizza topping:",
       "index": 0,
       "layout": "IPY_MODEL_b98706a38c60413e92216837d1cb943d",
       "style": "IPY_MODEL_43671b0365e2448a9b88c35f74542954"
      }
     },
     "b577ed0351e54d97a2dcf3e174959dde": {
      "model_module": "@jupyter-widgets/base",
      "model_module_version": "1.2.0",
      "model_name": "LayoutModel",
      "state": {}
     },
     "b98706a38c60413e92216837d1cb943d": {
      "model_module": "@jupyter-widgets/base",
      "model_module_version": "1.2.0",
      "model_name": "LayoutModel",
      "state": {}
     },
     "bac54438efdd46298e6b50d9c5babfee": {
      "model_module": "@jupyter-widgets/base",
      "model_module_version": "1.2.0",
      "model_name": "LayoutModel",
      "state": {}
     },
     "bebada9bfeb84d3797ec65b84731a491": {
      "model_module": "@jupyter-widgets/controls",
      "model_module_version": "1.5.0",
      "model_name": "DescriptionStyleModel",
      "state": {
       "description_width": ""
      }
     },
     "bfc8414cd2ca4483902f8cf842742242": {
      "model_module": "@jupyter-widgets/controls",
      "model_module_version": "1.5.0",
      "model_name": "VBoxModel",
      "state": {
       "children": [
        "IPY_MODEL_eda803c1f7364ce881c96c8c8fa37103",
        "IPY_MODEL_3d887a1bbe0442aa88ac305c57dda676"
       ],
       "layout": "IPY_MODEL_3360ca254000414b878365f9162d3dd6"
      }
     },
     "c19948d95bb44a29a37c2e4ef9c5fc7b": {
      "model_module": "@jupyter-widgets/base",
      "model_module_version": "1.2.0",
      "model_name": "LayoutModel",
      "state": {}
     },
     "ca99eae10b12428b85c4c9d066325552": {
      "model_module": "@jupyter-widgets/controls",
      "model_module_version": "1.5.0",
      "model_name": "DropdownModel",
      "state": {
       "_options_labels": [
        "1 - Equal Importance",
        "2 - Weak or slight",
        "3 - Moderate importance",
        "4 - Moderate plus",
        "5 - Strong importance",
        "6 - Strong plus",
        "7 - Very strong or demonstrated importance",
        "8 - Very, very strong",
        "9 - Extreme importance"
       ],
       "description": "a",
       "index": 0,
       "layout": "IPY_MODEL_937f312d82854a58bd101e6b8ffeb9ee",
       "style": "IPY_MODEL_bebada9bfeb84d3797ec65b84731a491"
      }
     },
     "cd1694ef57ea4ccfb8b6d14f08df4c51": {
      "model_module": "@jupyter-widgets/controls",
      "model_module_version": "1.5.0",
      "model_name": "RadioButtonsModel",
      "state": {
       "_options_labels": [
        "b",
        "c"
       ],
       "description": "Pizza topping:",
       "index": 0,
       "layout": "IPY_MODEL_346ef654218d44c4bd8e5ccb7c78406f",
       "style": "IPY_MODEL_86e05ac0cb8145dc919679c2a1c87aa3"
      }
     },
     "cef955f503324b6daddd5e695d960692": {
      "model_module": "@jupyter-widgets/base",
      "model_module_version": "1.2.0",
      "model_name": "LayoutModel",
      "state": {}
     },
     "d45728f861db429b81d75b781eef520d": {
      "model_module": "@jupyter-widgets/base",
      "model_module_version": "1.2.0",
      "model_name": "LayoutModel",
      "state": {}
     },
     "d965054f977040a4ad0a3a69f49bbb75": {
      "model_module": "@jupyter-widgets/controls",
      "model_module_version": "1.5.0",
      "model_name": "DescriptionStyleModel",
      "state": {
       "description_width": ""
      }
     },
     "daa1484341d2486f8939a5e95534f40d": {
      "model_module": "@jupyter-widgets/controls",
      "model_module_version": "1.5.0",
      "model_name": "DescriptionStyleModel",
      "state": {
       "description_width": ""
      }
     },
     "de31364fe79848a9875242b5bb04f69a": {
      "model_module": "@jupyter-widgets/controls",
      "model_module_version": "1.5.0",
      "model_name": "DropdownModel",
      "state": {
       "_options_labels": [
        "1 - Equal Importance",
        "2 - Weak or slight",
        "3 - Moderate importance",
        "4 - Moderate plus",
        "5 - Strong importance",
        "6 - Strong plus",
        "7 - Very strong or demonstrated importance",
        "8 - Very, very strong",
        "9 - Extreme importance"
       ],
       "description": "a",
       "index": 0,
       "layout": "IPY_MODEL_f92a8baee73746f1a89937f39bf159b0",
       "style": "IPY_MODEL_f31de2e84d744694b891e99da42144d3"
      }
     },
     "e1ce486894a742788657ff18a8d581e3": {
      "model_module": "@jupyter-widgets/base",
      "model_module_version": "1.2.0",
      "model_name": "LayoutModel",
      "state": {}
     },
     "e3e0740d1b3f4faba60791f88fd3cd1f": {
      "model_module": "@jupyter-widgets/controls",
      "model_module_version": "1.5.0",
      "model_name": "ButtonStyleModel",
      "state": {}
     },
     "eda803c1f7364ce881c96c8c8fa37103": {
      "model_module": "@jupyter-widgets/controls",
      "model_module_version": "1.5.0",
      "model_name": "RadioButtonsModel",
      "state": {
       "_options_labels": [
        "a",
        "b"
       ],
       "description": "Pizza topping:",
       "index": 0,
       "layout": "IPY_MODEL_06050b03af4d49f1a8523c8a8b8c2ad5",
       "style": "IPY_MODEL_d965054f977040a4ad0a3a69f49bbb75"
      }
     },
     "f2169dd763e9429b86fbac5d781a3b6f": {
      "model_module": "@jupyter-widgets/base",
      "model_module_version": "1.2.0",
      "model_name": "LayoutModel",
      "state": {}
     },
     "f2f6c1bf1e184459be5f92001d65d705": {
      "model_module": "@jupyter-widgets/base",
      "model_module_version": "1.2.0",
      "model_name": "LayoutModel",
      "state": {}
     },
     "f31166c226344c87b4daf20602fa4cd3": {
      "model_module": "@jupyter-widgets/base",
      "model_module_version": "1.2.0",
      "model_name": "LayoutModel",
      "state": {}
     },
     "f31de2e84d744694b891e99da42144d3": {
      "model_module": "@jupyter-widgets/controls",
      "model_module_version": "1.5.0",
      "model_name": "DescriptionStyleModel",
      "state": {
       "description_width": ""
      }
     },
     "f601c7282c0743b4805a6558b256e19d": {
      "model_module": "@jupyter-widgets/controls",
      "model_module_version": "1.5.0",
      "model_name": "ButtonStyleModel",
      "state": {}
     },
     "f92a8baee73746f1a89937f39bf159b0": {
      "model_module": "@jupyter-widgets/base",
      "model_module_version": "1.2.0",
      "model_name": "LayoutModel",
      "state": {}
     },
     "fa45641046ef40d1981a6aa25fc5ef6b": {
      "model_module": "@jupyter-widgets/controls",
      "model_module_version": "1.5.0",
      "model_name": "ButtonModel",
      "state": {
       "description": "My Button",
       "layout": "IPY_MODEL_1f0ef42bf61548a8b7c0d71774693bf3",
       "style": "IPY_MODEL_3fb5b65fd4114efcbe15ac95a7837524"
      }
     },
     "ffcac2f5fedb4a6b87f5016f796a0c58": {
      "model_module": "@jupyter-widgets/controls",
      "model_module_version": "1.5.0",
      "model_name": "DescriptionStyleModel",
      "state": {
       "description_width": ""
      }
     }
    },
    "version_major": 2,
    "version_minor": 0
   }
  }
 },
 "nbformat": 4,
 "nbformat_minor": 4
}
